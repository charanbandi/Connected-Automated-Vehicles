{
 "cells": [
  {
   "cell_type": "code",
   "execution_count": 1,
   "metadata": {},
   "outputs": [],
   "source": [
    "import cv2\n",
    "\n",
    "img_file = 'dataset/rain1.png'"
   ]
  },
  {
   "cell_type": "code",
   "execution_count": 2,
   "metadata": {},
   "outputs": [],
   "source": [
    "# Pre-trained car classifier\n",
    "car_classifier_file = 'cascade_classifiers/cars.xml'\n",
    "ped_classifier_file = 'cascade_classifiers/pedestrian.xml'\n",
    "bus_classifier_file = 'cascade_classifiers/bus_front.xml'\n",
    "two_wheeler_file = 'cascade_classifiers/two_wheeler.xml'\n",
    "\n",
    "\n",
    "# Create opencv image\n",
    "img = cv2.imread(img_file)\n",
    "\n",
    "# Create classifier\n",
    "car_tracker = cv2.CascadeClassifier(car_classifier_file)\n",
    "ped_tracker = cv2.CascadeClassifier(ped_classifier_file)\n",
    "bus_tracker = cv2.CascadeClassifier(bus_classifier_file)\n",
    "two_wheeler_tracker = cv2.CascadeClassifier(two_wheeler_file)\n"
   ]
  },
  {
   "cell_type": "code",
   "execution_count": 3,
   "metadata": {},
   "outputs": [],
   "source": [
    "# Convert to Grayscale\n",
    "black_n_white = cv2.cvtColor(img, cv2.COLOR_BGR2GRAY)\n",
    "\n",
    "#print(black_n_white)\n",
    "\n",
    "# detect cars\n",
    "cars = car_tracker.detectMultiScale(black_n_white)\n",
    "pedestrians = ped_tracker.detectMultiScale(black_n_white)\n",
    "buses = bus_tracker.detectMultiScale(black_n_white)\n",
    "two_wheeler = two_wheeler_tracker.detectMultiScale(black_n_white)\n",
    "\n"
   ]
  },
  {
   "cell_type": "code",
   "execution_count": 4,
   "metadata": {},
   "outputs": [],
   "source": [
    "# # Draw rectangles around the objects:\n",
    "# for (x, y, w, h) in cars:\n",
    "#     cv2.rectangle(img, (x,y), (x+w, y+h), (0, 255, 0), 2)\n",
    "# cv2.imshow('Detector', img)\n",
    "# cv2.waitKey()"
   ]
  },
  {
   "cell_type": "code",
   "execution_count": 5,
   "metadata": {},
   "outputs": [],
   "source": [
    "# for (x, y, w, h) in pedestrians:\n",
    "#     cv2.rectangle(img, (x,y), (x+w, y+h), (255, 0, 0), 2)\n",
    "# cv2.imshow('Detector', img)\n",
    "# cv2.waitKey()\n"
   ]
  },
  {
   "cell_type": "code",
   "execution_count": 6,
   "metadata": {},
   "outputs": [],
   "source": [
    "\n",
    "# for (x, y, w, h) in buses:\n",
    "#     cv2.rectangle(img, (x,y), (x+w, y+h), (0, 0, 255), 2)\n",
    "# cv2.imshow('Detector', img)\n",
    "# cv2.waitKey()"
   ]
  },
  {
   "cell_type": "code",
   "execution_count": 7,
   "metadata": {},
   "outputs": [],
   "source": [
    "# for (x, y, w, h) in two_wheeler:\n",
    "#     cv2.rectangle(img, (x,y), (x+w, y+h), (51, 199, 95), 2)\n",
    "# cv2.imshow('Detector', img)\n",
    "# cv2.waitKey()"
   ]
  },
  {
   "cell_type": "code",
   "execution_count": 8,
   "metadata": {},
   "outputs": [
    {
     "name": "stdout",
     "output_type": "stream",
     "text": [
      "6\n",
      "0\n",
      "0\n",
      "0\n"
     ]
    }
   ],
   "source": [
    "# gets the count of the each objects type \n",
    "print(len(cars))\n",
    "print(len(pedestrians))\n",
    "print(len(buses))\n",
    "print(len(two_wheeler))"
   ]
  }
 ],
 "metadata": {
  "kernelspec": {
   "display_name": "Python 3",
   "language": "python",
   "name": "python3"
  },
  "language_info": {
   "codemirror_mode": {
    "name": "ipython",
    "version": 3
   },
   "file_extension": ".py",
   "mimetype": "text/x-python",
   "name": "python",
   "nbconvert_exporter": "python",
   "pygments_lexer": "ipython3",
   "version": "3.8.3"
  }
 },
 "nbformat": 4,
 "nbformat_minor": 4
}
